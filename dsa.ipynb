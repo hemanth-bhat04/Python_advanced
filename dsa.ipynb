{
 "cells": [
  {
   "cell_type": "code",
   "execution_count": null,
   "metadata": {},
   "outputs": [
    {
     "name": "stdout",
     "output_type": "stream",
     "text": [
      "4\n"
     ]
    }
   ],
   "source": [
    "#naive approach to gcd\n",
    "def gcd(m,n):\n",
    "    fm = []\n",
    "    for i in range(1,m+1):\n",
    "        if(m%i==0):\n",
    "            fm.append(i)\n",
    "    fn = []\n",
    "    for i in range(1,n+1):\n",
    "        if(n%i==0):\n",
    "            fn.append(i)\n",
    "    cf = []\n",
    "    for i in fm:\n",
    "        if(i in fn):\n",
    "            cf.append(i)\n",
    "    return(cf[-1])\n",
    "print(gcd(8,12))"
   ]
  },
  {
   "cell_type": "code",
   "execution_count": null,
   "metadata": {},
   "outputs": [
    {
     "name": "stdout",
     "output_type": "stream",
     "text": [
      "6\n"
     ]
    }
   ],
   "source": [
    "#shorter approach\n",
    "def gcd(m,n):\n",
    "    cf = []\n",
    "    for i in range(1,min(m,n)+1):\n",
    "        if m%i == 0 and n%i == 0:\n",
    "            cf.append(i)\n",
    "    return(cf[-1])\n",
    "print(gcd(48,18))"
   ]
  },
  {
   "cell_type": "code",
   "execution_count": null,
   "metadata": {},
   "outputs": [
    {
     "name": "stdout",
     "output_type": "stream",
     "text": [
      "2\n"
     ]
    }
   ],
   "source": [
    "#Euclid's algorithm\n",
    "def gcd(a, b):\n",
    "    while b != 0:\n",
    "        a, b = b, a % b\n",
    "    return a\n",
    "\n",
    "\n",
    "print(gcd(12, 10))"
   ]
  },
  {
   "cell_type": "code",
   "execution_count": 9,
   "metadata": {},
   "outputs": [
    {
     "data": {
      "text/plain": [
       "[0, 1, 4, 6, 10, 12]"
      ]
     },
     "execution_count": 9,
     "metadata": {},
     "output_type": "execute_result"
    }
   ],
   "source": [
    "def selsort(l):\n",
    "    for start in range(len(l)):\n",
    "        minpos = start\n",
    "        for i in range(start,len(l)):\n",
    "            if l[i] < l[minpos]:\n",
    "                minpos = i\n",
    "        (l[start],l[minpos])=(l[minpos],l[start])\n",
    "    return l\n",
    "\n",
    "selsort([4,1,6,10,12,0])"
   ]
  }
 ],
 "metadata": {
  "kernelspec": {
   "display_name": "Python 3",
   "language": "python",
   "name": "python3"
  },
  "language_info": {
   "codemirror_mode": {
    "name": "ipython",
    "version": 3
   },
   "file_extension": ".py",
   "mimetype": "text/x-python",
   "name": "python",
   "nbconvert_exporter": "python",
   "pygments_lexer": "ipython3",
   "version": "3.11.5"
  }
 },
 "nbformat": 4,
 "nbformat_minor": 2
}
